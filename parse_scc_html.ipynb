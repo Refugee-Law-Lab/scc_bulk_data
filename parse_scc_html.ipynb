{
 "cells": [
  {
   "attachments": {},
   "cell_type": "markdown",
   "metadata": {},
   "source": [
    "### Notebook to parse scraped html to produce cleaned text of SCC decisions\n",
    "\n",
    "Sean Rehaag\n",
    "\n",
    "License: Creative Commons Attribution-NonCommercial 4.0 International [(CC BY-NC 4.0)](https://creativecommons.org/licenses/by-nc/4.0/)\n",
    "\n",
    "Dataset & Code to be cited as: \n",
    "\n",
    "    Sean Rehaag, \"Supreme Court of Canada Bulk Decisions Dataset\" (2023), online: Refugee Law Laboratory <https://refugeelab.ca/bulk-data/scc/>.\n",
    "\n",
    "Notes:\n",
    "\n",
    "(1) Data Source: [Supreme Court of Canada](https://www.scc-csc.ca). \n",
    "\n",
    "(2) Unofficial Data: The data are unofficial reproductions of materials on the Supreme Court of Canada website. Links to official versions are included in the dataset.\n",
    "\n",
    "(3) Non-Affiliation / Endorsement: The data has been collected and reproduced without any affiliation or endorsement from the Supreme Court of Canada\n",
    "\n",
    "(4) Non-Commerical Use: As indicated in the license, data may be used for non-commercial use (with attribution) only. For commercial use, see the Supreme Court of Canada website's [Terms of Use](https://www.scc-csc.ca/terms-avis/notice-enonce-eng.aspx).\n",
    "\n",
    "(5) Accuracy: Data was collected and processed programmatically for the purposes of academic research. While we make best efforts to ensure accuracy, data gathering of this kind inevitably involves errors. As such the data should be viewed as preliminary information aimed to prompt further research and discussion, rather than as definitive information. \n",
    "\n"
   ]
  },
  {
   "cell_type": "code",
   "execution_count": 1,
   "metadata": {},
   "outputs": [],
   "source": [
    "# import libraries\n",
    "from bs4 import BeautifulSoup\n",
    "import pandas as pd\n",
    "import re\n",
    "import pathlib\n",
    "import json\n",
    "import random\n",
    "\n",
    "# set up progress bar\n",
    "from tqdm import tqdm\n",
    "tqdm.pandas()\n",
    "\n",
    "# set paths\n",
    "in_path = pathlib.Path('d:/scraping/DATA/DECISIONS/SCC/BULK/HTML/')\n",
    "out_path_raw = pathlib.Path('DATA/scc_raw.jsonl')\n",
    "out_path_parsed = pathlib.Path('DATA/scc_cases.jsonl')\n",
    "out_path_parquet = pathlib.Path('DATA/scc_cases.parquet')\n",
    "out_path_yearly = pathlib.Path('DATA/YEARLY/')\n",
    "\n",
    "# set years sought\n",
    "start_year = 1877\n",
    "end_year = 2023\n",
    "\n",
    "# set language sought\n",
    "language_sought = None  #set to 'en' if english only, set to 'fr' if French only, set to None if all languages\n"
   ]
  },
  {
   "attachments": {},
   "cell_type": "markdown",
   "metadata": {},
   "source": [
    "### Load Raw Data"
   ]
  },
  {
   "cell_type": "code",
   "execution_count": 2,
   "metadata": {},
   "outputs": [
    {
     "name": "stdout",
     "output_type": "stream",
     "text": [
      "15604\n"
     ]
    },
    {
     "name": "stderr",
     "output_type": "stream",
     "text": [
      "100%|██████████| 15604/15604 [00:19<00:00, 800.38it/s]\n"
     ]
    }
   ],
   "source": [
    "# get list of files (including subdirectories) using pathlib\n",
    "files = list(in_path.glob('**/*.json'))\n",
    "print(len(files))\n",
    "\n",
    "# Load data from files\n",
    "results = []\n",
    "for file in tqdm(files):\n",
    "    with open(file) as f:\n",
    "        data = json.load(f)\n",
    "        results.append(data)\n",
    "\n",
    "# convert list of dictionaries to dataframe\n",
    "df = pd.DataFrame(results)\n",
    "\n",
    "# Manually fix one error in the data in english version of 2008scc29\n",
    "file_en = pathlib.Path('d:/scraping/DATA/DECISIONS/SCC/BULK/ARCHIVE/HTML/EN/2008/2008scc29=2022-09-01T04_14_02.645930.json')\n",
    "if file.exists():\n",
    "    with open(file_en) as f:\n",
    "        data = json.load(f)\n",
    "    \n",
    "# get the df row with citation '2008 SCC 29', iterate through the columns, and replace the values with the values from the json file\n",
    "for col in df.columns:\n",
    "    df.loc[df['case_citation'] == '2008 SCC 29', col] = data[col]\n",
    "\n",
    "#df\n"
   ]
  },
  {
   "cell_type": "code",
   "execution_count": 3,
   "metadata": {},
   "outputs": [],
   "source": [
    "# export raw df to jsonl\n",
    "df.to_json(out_path_raw, orient='records', lines=True)\n"
   ]
  },
  {
   "attachments": {},
   "cell_type": "markdown",
   "metadata": {},
   "source": [
    "### Parse Data"
   ]
  },
  {
   "cell_type": "code",
   "execution_count": 4,
   "metadata": {},
   "outputs": [],
   "source": [
    "# clean dataframe\n",
    "\n",
    "#remove ?iframe=true from scraped_link\n",
    "df['scraped_link'] = df['scraped_link'].str.replace('\\?iframe=true', '', regex=True)\n",
    "\n",
    "# remove T and everything after from scraped_timestamp & case_decision_date\n",
    "df['scraped_timestamp'] = df['scraped_timestamp'].str.replace('T.*', '', regex=True)\n",
    "df['case_decision_date'] = df['case_decision_date'].str.replace('T.*', '', regex=True)\n",
    "\n",
    "# remove scraped_status_code, referrer_main_source, referrer_sub_source, referrer_file, referrer_timestamp\n",
    "df = df.drop(columns=['scraped_status_code', 'referrer_main_source', 'referrer_sub_source', 'referrer_file', 'referrer_timestamp'])\n",
    "\n",
    "# convert case_year to int and filter for years sought\n",
    "df['case_year'] = df['case_year'].astype(int)\n",
    "df = df[df.case_year >= start_year]\n",
    "df = df[df.case_year <= end_year]\n",
    "\n",
    "# filter for langauge if desired\n",
    "if language_sought:\n",
    "    df = df[df.case_language == language_sought]\n",
    "\n",
    "# remove cases where no citation (typically orders or errors)\n",
    "# remove df where citation includes '=' or '-'\n",
    "df = df[df.case_citation.str.contains('=') == False]\n",
    "df = df[df.case_citation.str.contains('-') == False]\n",
    "\n",
    "# if citation2 = ciation 1, make citation2 = ''\n",
    "df['case_citation2'] = df['case_citation2'].where(df['case_citation2'] != df['case_citation'], '')\n",
    "\n",
    "# change 'scraped_link' column to 'source_url;\n",
    "df = df.rename(columns={'scraped_link': 'source_url'})\n",
    "\n",
    "# remove 'case_' from all column names\n",
    "df.columns = df.columns.str.replace('case_', '')\n"
   ]
  },
  {
   "cell_type": "code",
   "execution_count": 5,
   "metadata": {},
   "outputs": [
    {
     "name": "stderr",
     "output_type": "stream",
     "text": [
      "100%|██████████| 15589/15589 [08:27<00:00, 30.75it/s]\n"
     ]
    }
   ],
   "source": [
    "# Extract text of cases from html\n",
    "def get_text(html):\n",
    "\n",
    "    # if html is None, return None\n",
    "    if html is None:\n",
    "        return None\n",
    "    \n",
    "    # extract text from class 'entry-content' in page1 html using beautiful soup\n",
    "    soup = BeautifulSoup(html, 'html.parser')\n",
    "\n",
    "    # convert <br> to new line to preserve paragraphs\n",
    "    for br in soup.find_all('br'):\n",
    "        br.replace_with('\\n')\n",
    "\n",
    "    # Insert newline characters after each <p> tag to preserve paragraphs\n",
    "    for p in soup.find_all('p'):\n",
    "        p.insert_after('\\n')\n",
    "\n",
    "    return soup.text\n",
    "\n",
    "df['text'] = df.html.progress_apply(get_text)\n",
    "\n"
   ]
  },
  {
   "cell_type": "code",
   "execution_count": 6,
   "metadata": {},
   "outputs": [
    {
     "name": "stderr",
     "output_type": "stream",
     "text": [
      "100%|██████████| 15589/15589 [01:00<00:00, 257.35it/s]\n"
     ]
    }
   ],
   "source": [
    "# Clean text of cases\n",
    "def clean_text(text):\n",
    "\n",
    "    # remove \\xa0\n",
    "    text = text.replace('\\xa0', ' ')\n",
    "\n",
    "    # Remove multiple whitespaces and preserve paragraphs\n",
    "    text = '\\n'.join([re.sub(r'\\s+', ' ', line.strip()) for line in text.split('\\n')])\n",
    "    \n",
    "    # Remove single newlines\n",
    "    text = re.sub(r'(?<!\\n)\\n(?!\\n)', ' ', text)\n",
    "\n",
    "    # Convert multiple newlines to single newlines\n",
    "    text = re.sub(r'\\n+', '\\n', text)\n",
    "\n",
    "    # Remove 'You are being directed to the most recent version...\n",
    "    if 'You are being directed to the most recent version of the statute which may not be' in text:\n",
    "        text = text.split('You are being directed to the most recent version of the statute which may not be')[0]\n",
    "\n",
    "    # Remove 'Vous allez être redirigé vers la version...'\n",
    "    if '\\nVous allez être redirigé vers la version' in text:\n",
    "        text = text.split('\\nVous allez être redirigé vers la version')[0]\n",
    "\n",
    "    # if '\\nDecision Information\\n' in text, remove everything before it\n",
    "    if '\\nDecision Information\\n' in text:\n",
    "        text = text.split('\\nDecision Information\\n')[1]\n",
    "\n",
    "    # if '\\nInformations sur la décision\\n' in text, remove everything before it\n",
    "    if '\\nInformations sur la décision\\n' in text:\n",
    "        text = text.split('\\nInformations sur la décision\\n')[1]\n",
    "\n",
    "    # Remove all strings '\\n[Page #]\\n' (with # being a number of up to 4 digits \n",
    "    text = re.sub(r'\\n\\[Page \\d{1,3}\\]\\n', ' ', text)\n",
    "    \n",
    "    return text\n",
    "\n",
    "df['unofficial_text'] = df.text.progress_apply(clean_text)\n"
   ]
  },
  {
   "cell_type": "code",
   "execution_count": 7,
   "metadata": {},
   "outputs": [],
   "source": [
    "# drop unneeded columns\n",
    "df = df.drop(columns=['html'])\n",
    "df = df.drop(columns=['text'])\n",
    "\n",
    "# reindex\n",
    "df = df.reset_index(drop=True)"
   ]
  },
  {
   "cell_type": "code",
   "execution_count": 8,
   "metadata": {},
   "outputs": [
    {
     "data": {
      "text/html": [
       "<div>\n",
       "<style scoped>\n",
       "    .dataframe tbody tr th:only-of-type {\n",
       "        vertical-align: middle;\n",
       "    }\n",
       "\n",
       "    .dataframe tbody tr th {\n",
       "        vertical-align: top;\n",
       "    }\n",
       "\n",
       "    .dataframe thead th {\n",
       "        text-align: right;\n",
       "    }\n",
       "</style>\n",
       "<table border=\"1\" class=\"dataframe\">\n",
       "  <thead>\n",
       "    <tr style=\"text-align: right;\">\n",
       "      <th></th>\n",
       "      <th>citation</th>\n",
       "      <th>citation2</th>\n",
       "      <th>year</th>\n",
       "      <th>name</th>\n",
       "      <th>language</th>\n",
       "      <th>decision_date</th>\n",
       "      <th>source_url</th>\n",
       "      <th>scraped_timestamp</th>\n",
       "      <th>unofficial_text</th>\n",
       "    </tr>\n",
       "  </thead>\n",
       "  <tbody>\n",
       "    <tr>\n",
       "      <th>0</th>\n",
       "      <td>(1877) 1 SCR 110</td>\n",
       "      <td></td>\n",
       "      <td>1877</td>\n",
       "      <td>Boak et al. v. The Merchant's Marine Insurance...</td>\n",
       "      <td>en</td>\n",
       "      <td>1877-01-23</td>\n",
       "      <td>https://decisions.scc-csc.ca/scc-csc/scc-csc/e...</td>\n",
       "      <td>2022-08-31</td>\n",
       "      <td>Boak et al. v. The Merchant's Marine Insurance...</td>\n",
       "    </tr>\n",
       "    <tr>\n",
       "      <th>1</th>\n",
       "      <td>(1877) 1 SCR 114</td>\n",
       "      <td></td>\n",
       "      <td>1877</td>\n",
       "      <td>Smyth v. McDougall</td>\n",
       "      <td>en</td>\n",
       "      <td>1877-02-01</td>\n",
       "      <td>https://decisions.scc-csc.ca/scc-csc/scc-csc/e...</td>\n",
       "      <td>2022-08-31</td>\n",
       "      <td>Smyth v. McDougall\\nCollection\\nSupreme Court ...</td>\n",
       "    </tr>\n",
       "    <tr>\n",
       "      <th>2</th>\n",
       "      <td>(1877) 1 SCR 117</td>\n",
       "      <td></td>\n",
       "      <td>1877</td>\n",
       "      <td>The Queen v. Laliberté</td>\n",
       "      <td>en</td>\n",
       "      <td>1877-02-03</td>\n",
       "      <td>https://decisions.scc-csc.ca/scc-csc/scc-csc/e...</td>\n",
       "      <td>2022-08-31</td>\n",
       "      <td>The Queen v. Laliberté\\nCollection\\nSupreme Co...</td>\n",
       "    </tr>\n",
       "    <tr>\n",
       "      <th>3</th>\n",
       "      <td>(1877) 1 SCR 145</td>\n",
       "      <td></td>\n",
       "      <td>1877</td>\n",
       "      <td>Brassard et al. v. Langevin</td>\n",
       "      <td>en</td>\n",
       "      <td>1877-02-28</td>\n",
       "      <td>https://decisions.scc-csc.ca/scc-csc/scc-csc/e...</td>\n",
       "      <td>2022-08-31</td>\n",
       "      <td>Brassard et al. v. Langevin\\nCollection\\nSupre...</td>\n",
       "    </tr>\n",
       "    <tr>\n",
       "      <th>4</th>\n",
       "      <td>(1877) 1 SCR 235</td>\n",
       "      <td></td>\n",
       "      <td>1877</td>\n",
       "      <td>Johnstone v. The Minister &amp; Trustees of St. An...</td>\n",
       "      <td>en</td>\n",
       "      <td>1877-06-28</td>\n",
       "      <td>https://decisions.scc-csc.ca/scc-csc/scc-csc/e...</td>\n",
       "      <td>2022-08-31</td>\n",
       "      <td>Johnstone v. The Minister &amp; Trustees of St. An...</td>\n",
       "    </tr>\n",
       "  </tbody>\n",
       "</table>\n",
       "</div>"
      ],
      "text/plain": [
       "           citation citation2  year  \\\n",
       "0  (1877) 1 SCR 110            1877   \n",
       "1  (1877) 1 SCR 114            1877   \n",
       "2  (1877) 1 SCR 117            1877   \n",
       "3  (1877) 1 SCR 145            1877   \n",
       "4  (1877) 1 SCR 235            1877   \n",
       "\n",
       "                                                name language decision_date  \\\n",
       "0  Boak et al. v. The Merchant's Marine Insurance...       en    1877-01-23   \n",
       "1                                 Smyth v. McDougall       en    1877-02-01   \n",
       "2                             The Queen v. Laliberté       en    1877-02-03   \n",
       "3                        Brassard et al. v. Langevin       en    1877-02-28   \n",
       "4  Johnstone v. The Minister & Trustees of St. An...       en    1877-06-28   \n",
       "\n",
       "                                          source_url scraped_timestamp  \\\n",
       "0  https://decisions.scc-csc.ca/scc-csc/scc-csc/e...        2022-08-31   \n",
       "1  https://decisions.scc-csc.ca/scc-csc/scc-csc/e...        2022-08-31   \n",
       "2  https://decisions.scc-csc.ca/scc-csc/scc-csc/e...        2022-08-31   \n",
       "3  https://decisions.scc-csc.ca/scc-csc/scc-csc/e...        2022-08-31   \n",
       "4  https://decisions.scc-csc.ca/scc-csc/scc-csc/e...        2022-08-31   \n",
       "\n",
       "                                     unofficial_text  \n",
       "0  Boak et al. v. The Merchant's Marine Insurance...  \n",
       "1  Smyth v. McDougall\\nCollection\\nSupreme Court ...  \n",
       "2  The Queen v. Laliberté\\nCollection\\nSupreme Co...  \n",
       "3  Brassard et al. v. Langevin\\nCollection\\nSupre...  \n",
       "4  Johnstone v. The Minister & Trustees of St. An...  "
      ]
     },
     "execution_count": 8,
     "metadata": {},
     "output_type": "execute_result"
    }
   ],
   "source": [
    "df.head()"
   ]
  },
  {
   "cell_type": "code",
   "execution_count": 9,
   "metadata": {},
   "outputs": [
    {
     "data": {
      "text/html": [
       "<div>\n",
       "<style scoped>\n",
       "    .dataframe tbody tr th:only-of-type {\n",
       "        vertical-align: middle;\n",
       "    }\n",
       "\n",
       "    .dataframe tbody tr th {\n",
       "        vertical-align: top;\n",
       "    }\n",
       "\n",
       "    .dataframe thead th {\n",
       "        text-align: right;\n",
       "    }\n",
       "</style>\n",
       "<table border=\"1\" class=\"dataframe\">\n",
       "  <thead>\n",
       "    <tr style=\"text-align: right;\">\n",
       "      <th></th>\n",
       "      <th>citation</th>\n",
       "      <th>citation2</th>\n",
       "      <th>year</th>\n",
       "      <th>name</th>\n",
       "      <th>language</th>\n",
       "      <th>decision_date</th>\n",
       "      <th>source_url</th>\n",
       "      <th>scraped_timestamp</th>\n",
       "      <th>unofficial_text</th>\n",
       "    </tr>\n",
       "  </thead>\n",
       "  <tbody>\n",
       "    <tr>\n",
       "      <th>15584</th>\n",
       "      <td>2023 CSC 5</td>\n",
       "      <td></td>\n",
       "      <td>2023</td>\n",
       "      <td>R. c. Metzger</td>\n",
       "      <td>fr</td>\n",
       "      <td>2023-03-03</td>\n",
       "      <td>https://decisions.scc-csc.ca/scc-csc/scc-csc/f...</td>\n",
       "      <td>2023-04-13</td>\n",
       "      <td>R. c. Metzger\\nCollection\\nJugements de la Cou...</td>\n",
       "    </tr>\n",
       "    <tr>\n",
       "      <th>15585</th>\n",
       "      <td>2023 CSC 6</td>\n",
       "      <td></td>\n",
       "      <td>2023</td>\n",
       "      <td>R. c. Downes</td>\n",
       "      <td>fr</td>\n",
       "      <td>2023-03-10</td>\n",
       "      <td>https://decisions.scc-csc.ca/scc-csc/scc-csc/f...</td>\n",
       "      <td>2023-04-13</td>\n",
       "      <td>R. c. Downes\\nCollection\\nJugements de la Cour...</td>\n",
       "    </tr>\n",
       "    <tr>\n",
       "      <th>15586</th>\n",
       "      <td>2023 CSC 7</td>\n",
       "      <td></td>\n",
       "      <td>2023</td>\n",
       "      <td>R. c. Chatillon</td>\n",
       "      <td>fr</td>\n",
       "      <td>2023-03-15</td>\n",
       "      <td>https://decisions.scc-csc.ca/scc-csc/scc-csc/f...</td>\n",
       "      <td>2023-07-03</td>\n",
       "      <td>R. c. Chatillon\\nCollection\\nJugements de la C...</td>\n",
       "    </tr>\n",
       "    <tr>\n",
       "      <th>15587</th>\n",
       "      <td>2023 CSC 8</td>\n",
       "      <td></td>\n",
       "      <td>2023</td>\n",
       "      <td>R. c. McColman</td>\n",
       "      <td>fr</td>\n",
       "      <td>2023-03-23</td>\n",
       "      <td>https://decisions.scc-csc.ca/scc-csc/scc-csc/f...</td>\n",
       "      <td>2023-07-03</td>\n",
       "      <td>R. c. McColman\\nCollection\\nJugements de la Co...</td>\n",
       "    </tr>\n",
       "    <tr>\n",
       "      <th>15588</th>\n",
       "      <td>2023 CSC 9</td>\n",
       "      <td></td>\n",
       "      <td>2023</td>\n",
       "      <td>R. c. Breault</td>\n",
       "      <td>fr</td>\n",
       "      <td>2023-04-13</td>\n",
       "      <td>https://decisions.scc-csc.ca/scc-csc/scc-csc/f...</td>\n",
       "      <td>2023-07-03</td>\n",
       "      <td>R. c. Breault\\nCollection\\nJugements de la Cou...</td>\n",
       "    </tr>\n",
       "  </tbody>\n",
       "</table>\n",
       "</div>"
      ],
      "text/plain": [
       "         citation citation2  year             name language decision_date  \\\n",
       "15584  2023 CSC 5            2023    R. c. Metzger       fr    2023-03-03   \n",
       "15585  2023 CSC 6            2023     R. c. Downes       fr    2023-03-10   \n",
       "15586  2023 CSC 7            2023  R. c. Chatillon       fr    2023-03-15   \n",
       "15587  2023 CSC 8            2023   R. c. McColman       fr    2023-03-23   \n",
       "15588  2023 CSC 9            2023    R. c. Breault       fr    2023-04-13   \n",
       "\n",
       "                                              source_url scraped_timestamp  \\\n",
       "15584  https://decisions.scc-csc.ca/scc-csc/scc-csc/f...        2023-04-13   \n",
       "15585  https://decisions.scc-csc.ca/scc-csc/scc-csc/f...        2023-04-13   \n",
       "15586  https://decisions.scc-csc.ca/scc-csc/scc-csc/f...        2023-07-03   \n",
       "15587  https://decisions.scc-csc.ca/scc-csc/scc-csc/f...        2023-07-03   \n",
       "15588  https://decisions.scc-csc.ca/scc-csc/scc-csc/f...        2023-07-03   \n",
       "\n",
       "                                         unofficial_text  \n",
       "15584  R. c. Metzger\\nCollection\\nJugements de la Cou...  \n",
       "15585  R. c. Downes\\nCollection\\nJugements de la Cour...  \n",
       "15586  R. c. Chatillon\\nCollection\\nJugements de la C...  \n",
       "15587  R. c. McColman\\nCollection\\nJugements de la Co...  \n",
       "15588  R. c. Breault\\nCollection\\nJugements de la Cou...  "
      ]
     },
     "execution_count": 9,
     "metadata": {},
     "output_type": "execute_result"
    }
   ],
   "source": [
    "df.tail()"
   ]
  },
  {
   "attachments": {},
   "cell_type": "markdown",
   "metadata": {},
   "source": [
    "### Export data"
   ]
  },
  {
   "cell_type": "code",
   "execution_count": 10,
   "metadata": {},
   "outputs": [],
   "source": [
    "# export cleaned df to jsonl\n",
    "df.to_json(out_path_parsed, orient='records', lines=True)"
   ]
  },
  {
   "cell_type": "code",
   "execution_count": 11,
   "metadata": {},
   "outputs": [],
   "source": [
    "# export cleaned df to parquet\n",
    "df.to_parquet(out_path_parquet)"
   ]
  },
  {
   "cell_type": "code",
   "execution_count": 12,
   "metadata": {},
   "outputs": [
    {
     "name": "stderr",
     "output_type": "stream",
     "text": [
      "100%|██████████| 147/147 [00:02<00:00, 72.21it/s]\n"
     ]
    }
   ],
   "source": [
    "# export cleaned df to yearly json files\n",
    "for year in tqdm(range(start_year, end_year+1)):\n",
    "    df[df.year == year].to_json(out_path_yearly / f'{year}.json', orient='records', indent=4)"
   ]
  },
  {
   "cell_type": "code",
   "execution_count": null,
   "metadata": {},
   "outputs": [],
   "source": []
  }
 ],
 "metadata": {
  "kernelspec": {
   "display_name": "venv",
   "language": "python",
   "name": "python3"
  },
  "language_info": {
   "codemirror_mode": {
    "name": "ipython",
    "version": 3
   },
   "file_extension": ".py",
   "mimetype": "text/x-python",
   "name": "python",
   "nbconvert_exporter": "python",
   "pygments_lexer": "ipython3",
   "version": "3.9.12"
  },
  "orig_nbformat": 4
 },
 "nbformat": 4,
 "nbformat_minor": 2
}
